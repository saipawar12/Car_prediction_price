{
 "cells": [
  {
   "cell_type": "code",
   "execution_count": 1,
   "metadata": {},
   "outputs": [],
   "source": [
    "import pandas as pd\n",
    "import numpy as np"
   ]
  },
  {
   "cell_type": "code",
   "execution_count": 2,
   "metadata": {},
   "outputs": [],
   "source": [
    "df = pd.read_csv(\"car data.csv\")"
   ]
  },
  {
   "cell_type": "code",
   "execution_count": 3,
   "metadata": {},
   "outputs": [
    {
     "data": {
      "text/html": [
       "<div>\n",
       "<style scoped>\n",
       "    .dataframe tbody tr th:only-of-type {\n",
       "        vertical-align: middle;\n",
       "    }\n",
       "\n",
       "    .dataframe tbody tr th {\n",
       "        vertical-align: top;\n",
       "    }\n",
       "\n",
       "    .dataframe thead th {\n",
       "        text-align: right;\n",
       "    }\n",
       "</style>\n",
       "<table border=\"1\" class=\"dataframe\">\n",
       "  <thead>\n",
       "    <tr style=\"text-align: right;\">\n",
       "      <th></th>\n",
       "      <th>Car_Name</th>\n",
       "      <th>Year</th>\n",
       "      <th>Selling_Price</th>\n",
       "      <th>Present_Price</th>\n",
       "      <th>Kms_Driven</th>\n",
       "      <th>Fuel_Type</th>\n",
       "      <th>Seller_Type</th>\n",
       "      <th>Transmission</th>\n",
       "      <th>Owner</th>\n",
       "    </tr>\n",
       "  </thead>\n",
       "  <tbody>\n",
       "    <tr>\n",
       "      <th>68</th>\n",
       "      <td>corolla altis</td>\n",
       "      <td>2011</td>\n",
       "      <td>4.35</td>\n",
       "      <td>13.74</td>\n",
       "      <td>88000</td>\n",
       "      <td>Petrol</td>\n",
       "      <td>Dealer</td>\n",
       "      <td>Manual</td>\n",
       "      <td>0</td>\n",
       "    </tr>\n",
       "    <tr>\n",
       "      <th>50</th>\n",
       "      <td>fortuner</td>\n",
       "      <td>2012</td>\n",
       "      <td>14.90</td>\n",
       "      <td>30.61</td>\n",
       "      <td>104707</td>\n",
       "      <td>Diesel</td>\n",
       "      <td>Dealer</td>\n",
       "      <td>Automatic</td>\n",
       "      <td>0</td>\n",
       "    </tr>\n",
       "    <tr>\n",
       "      <th>76</th>\n",
       "      <td>corolla altis</td>\n",
       "      <td>2013</td>\n",
       "      <td>5.50</td>\n",
       "      <td>14.68</td>\n",
       "      <td>72000</td>\n",
       "      <td>Petrol</td>\n",
       "      <td>Dealer</td>\n",
       "      <td>Manual</td>\n",
       "      <td>0</td>\n",
       "    </tr>\n",
       "    <tr>\n",
       "      <th>121</th>\n",
       "      <td>Royal Enfield Thunder 350</td>\n",
       "      <td>2011</td>\n",
       "      <td>1.05</td>\n",
       "      <td>1.50</td>\n",
       "      <td>6900</td>\n",
       "      <td>Petrol</td>\n",
       "      <td>Individual</td>\n",
       "      <td>Manual</td>\n",
       "      <td>0</td>\n",
       "    </tr>\n",
       "    <tr>\n",
       "      <th>152</th>\n",
       "      <td>Bajaj Pulsar NS 200</td>\n",
       "      <td>2012</td>\n",
       "      <td>0.50</td>\n",
       "      <td>0.99</td>\n",
       "      <td>13000</td>\n",
       "      <td>Petrol</td>\n",
       "      <td>Individual</td>\n",
       "      <td>Manual</td>\n",
       "      <td>0</td>\n",
       "    </tr>\n",
       "  </tbody>\n",
       "</table>\n",
       "</div>"
      ],
      "text/plain": [
       "                      Car_Name  Year  Selling_Price  Present_Price  \\\n",
       "68               corolla altis  2011           4.35          13.74   \n",
       "50                    fortuner  2012          14.90          30.61   \n",
       "76               corolla altis  2013           5.50          14.68   \n",
       "121  Royal Enfield Thunder 350  2011           1.05           1.50   \n",
       "152        Bajaj Pulsar NS 200  2012           0.50           0.99   \n",
       "\n",
       "     Kms_Driven Fuel_Type Seller_Type Transmission  Owner  \n",
       "68        88000    Petrol      Dealer       Manual      0  \n",
       "50       104707    Diesel      Dealer    Automatic      0  \n",
       "76        72000    Petrol      Dealer       Manual      0  \n",
       "121        6900    Petrol  Individual       Manual      0  \n",
       "152       13000    Petrol  Individual       Manual      0  "
      ]
     },
     "execution_count": 3,
     "metadata": {},
     "output_type": "execute_result"
    }
   ],
   "source": [
    "df.sample(5)"
   ]
  },
  {
   "cell_type": "code",
   "execution_count": 4,
   "metadata": {},
   "outputs": [
    {
     "data": {
      "text/plain": [
       "(301, 9)"
      ]
     },
     "execution_count": 4,
     "metadata": {},
     "output_type": "execute_result"
    }
   ],
   "source": [
    "df.shape"
   ]
  },
  {
   "cell_type": "code",
   "execution_count": 5,
   "metadata": {},
   "outputs": [
    {
     "data": {
      "text/plain": [
       "False"
      ]
     },
     "execution_count": 5,
     "metadata": {},
     "output_type": "execute_result"
    }
   ],
   "source": [
    "# let's first check na value\n",
    "\n",
    "df.isna().values.any() # so there is no any value"
   ]
  },
  {
   "cell_type": "code",
   "execution_count": 6,
   "metadata": {},
   "outputs": [
    {
     "name": "stdout",
     "output_type": "stream",
     "text": [
      "Fuel Type:  ['Petrol' 'Diesel' 'CNG']\n",
      "Seller Type:  ['Dealer' 'Individual']\n",
      "Transmission:  ['Manual' 'Automatic']\n",
      "Owner:  [0 1 3]\n"
     ]
    }
   ],
   "source": [
    "print(\"Fuel Type: \", df.Fuel_Type.unique())\n",
    "print(\"Seller Type: \", df.Seller_Type.unique())\n",
    "print(\"Transmission: \", df.Transmission.unique())\n",
    "print(\"Owner: \", df.Owner.unique())"
   ]
  },
  {
   "cell_type": "code",
   "execution_count": 7,
   "metadata": {},
   "outputs": [],
   "source": [
    "# year indicates a purchased year of car, it's basically use for calculating how many years old that car\n",
    "\n",
    "# for that we need to subtract year from current year\n",
    "\n",
    "from datetime import datetime\n",
    "\n",
    "df[\"Current_year\"] = datetime.now().year\n",
    "\n",
    "# now let's subtract Year from Current Year\n",
    "df[\"Year\"] = df.Current_year - df.Year\n"
   ]
  },
  {
   "cell_type": "code",
   "execution_count": 8,
   "metadata": {},
   "outputs": [],
   "source": [
    "# now let's drop current year we don't need it\n",
    "\n",
    "df.drop(columns=\"Current_year\", axis = 1, inplace = True)"
   ]
  },
  {
   "cell_type": "code",
   "execution_count": 9,
   "metadata": {},
   "outputs": [],
   "source": [
    "# let's encode text or categorical data using one hot encoding\n",
    "# let's create  dummy variables for Fuel_Type Seller_Type and Transmission\n",
    "\n",
    "dummy = pd.get_dummies(df[[\"Fuel_Type\", \"Seller_Type\", \"Transmission\"]], drop_first = True)\n",
    "# drop first columns for preventing dummy variable trape\n",
    "# for Fuel_Type CNG will be Removed, for Seller Type Dealer will be removed and fo Transmission Automatic remove\n",
    "df = pd.concat( [df, dummy], axis = 1)\n",
    "# now we don't need that original text data columns so let's drop it\n",
    "df.drop(columns = [\"Fuel_Type\", \"Seller_Type\", \"Transmission\"], inplace = True)"
   ]
  },
  {
   "cell_type": "code",
   "execution_count": null,
   "metadata": {},
   "outputs": [
    {
     "data": {
      "image/png": "[encoded data removed]",
      "text/plain": [
       "<Figure size 720x432 with 2 Axes>"
      ]
     },
     "metadata": {
      "needs_background": "light"
     },
     "output_type": "display_data"
    }
   ],
   "source": [
    "# let's get a corelation of our data\n",
    "\n",
    "import matplotlib.pyplot as plt\n",
    "import seaborn as sns\n",
    "%matplotlib inline\n",
    "\n",
    "plt.figure(figsize = (10, 6))\n",
    "sns.heatmap(df.corr(), annot = True)\n",
    "plt.show()"
   ]
  },
  {
   "cell_type": "code",
   "execution_count": 11,
   "metadata": {},
   "outputs": [],
   "source": [
    "# let's encode Car_Name text data using one hot encoding\n",
    "\n",
    "# for this let's convert first Car_Names data into lowercase\n",
    "\n",
    "df.Car_Name = df.Car_Name.str.lower()\n",
    "\n",
    "dummy = pd.get_dummies(df.Car_Name, drop_first = True)\n",
    "# here we dropped first columns which is 800 for prevent dummy variable trap \n",
    "\n",
    "df = pd.concat([df, dummy], axis = 1)\n",
    "# now we don't need Car_Name columns so let's drop it\n",
    "df.drop(\"Car_Name\", axis = 1, inplace = True)"
   ]
  },
  {
   "cell_type": "code",
   "execution_count": 12,
   "metadata": {},
   "outputs": [],
   "source": [
    "# now let's create a feature matrix X and target vector y\n",
    "\n",
    "X = df.drop(columns=\"Selling_Price\")\n",
    "y = df.Selling_Price"
   ]
  },
  {
   "cell_type": "code",
   "execution_count": 13,
   "metadata": {},
   "outputs": [],
   "source": [
    "# let's find important feature using ExtraTreesRegressor model \n",
    "\n",
    "from sklearn.ensemble import ExtraTreesRegressor\n",
    "\n",
    "etr = ExtraTreesRegressor()\n",
    "etr.fit(X, y)\n",
    "important_features = etr.feature_importances_"
   ]
  },
  {
   "cell_type": "code",
   "execution_count": 14,
   "metadata": {},
   "outputs": [
    {
     "data": {
      "image/png": "[encoded data removed]",
      "text/plain": [
       "<Figure size 720x432 with 1 Axes>"
      ]
     },
     "metadata": {
      "needs_background": "light"
     },
     "output_type": "display_data"
    }
   ],
   "source": [
    "# let's get top important features\n",
    "\n",
    "important_features = pd.Series(important_features, index = X.columns).sort_values(ascending = False)\n",
    "# let's plot top 5 important feature\n",
    "\n",
    "plt.figure(figsize = (10, 6))\n",
    "important_features[:5].plot(kind = \"barh\")\n",
    "plt.title(\"Top 5 Important Feature\")\n",
    "\n",
    "plt.show()"
   ]
  },
  {
   "cell_type": "code",
   "execution_count": 15,
   "metadata": {},
   "outputs": [],
   "source": [
    "# let's divide our data into train and test part\n",
    "from sklearn.model_selection import train_test_split\n",
    "\n",
    "X_train, X_test, y_train, y_test = train_test_split(X, y, test_size = 0.20)"
   ]
  },
  {
   "cell_type": "code",
   "execution_count": 16,
   "metadata": {},
   "outputs": [],
   "source": [
    "# so let's hypertuning parameter and find best algorithm with it's best parameter\n",
    "\n",
    "from sklearn.linear_model import LinearRegression\n",
    "from sklearn.tree import DecisionTreeRegressor\n",
    "from sklearn.ensemble import RandomForestRegressor"
   ]
  },
  {
   "cell_type": "code",
   "execution_count": 17,
   "metadata": {},
   "outputs": [],
   "source": [
    "# let's create a dict for paramer\n",
    "\n",
    "\n",
    "algos = {\n",
    "    \"Linear Regression\": {\n",
    "        \"model\": LinearRegression(),\n",
    "        \"param\":{\n",
    "            \"normalize\":[True, False]\n",
    "        }\n",
    "    },\n",
    "    \"Decision Tree\": {\n",
    "        \"model\": DecisionTreeRegressor(),\n",
    "        \"param\": {\n",
    "            \"criterion\": [\"mse\", \"friedman_mse\"],\n",
    "            \"splitter\": [\"best\", \"random\"]\n",
    "        }\n",
    "    },\n",
    "    \"Random Forest\": {\n",
    "        \"model\": RandomForestRegressor(),\n",
    "        \"param\": {\n",
    "            \"n_estimators\": [int(x) for x in np.linspace(100, 1200, 12)],\n",
    "            \"max_features\": [\"auto\", \"sqrt\"],\n",
    "            \"max_depth\": [int(x) for x in np.linspace(5, 30, 6)],\n",
    "            \"min_samples_split\": [2, 5, 10, 15, 100],\n",
    "            \"min_samples_leaf\": [1, 2, 5, 10]\n",
    "        }\n",
    "    }\n",
    "}"
   ]
  },
  {
   "cell_type": "code",
   "execution_count": 18,
   "metadata": {},
   "outputs": [
    {
     "name": "stderr",
     "output_type": "stream",
     "text": [
      "/home/jaysoftic/anaconda3/lib/python3.8/site-packages/sklearn/model_selection/_search.py:278: UserWarning: The total space of parameters 2 is smaller than n_iter=10. Running 2 iterations. For exhaustive searches, use GridSearchCV.\n",
      "  warnings.warn(\n",
      "/home/jaysoftic/anaconda3/lib/python3.8/site-packages/sklearn/model_selection/_search.py:278: UserWarning: The total space of parameters 4 is smaller than n_iter=10. Running 4 iterations. For exhaustive searches, use GridSearchCV.\n",
      "  warnings.warn(\n"
     ]
    },
    {
     "data": {
      "text/html": [
       "<div>\n",
       "<style scoped>\n",
       "    .dataframe tbody tr th:only-of-type {\n",
       "        vertical-align: middle;\n",
       "    }\n",
       "\n",
       "    .dataframe tbody tr th {\n",
       "        vertical-align: top;\n",
       "    }\n",
       "\n",
       "    .dataframe thead th {\n",
       "        text-align: right;\n",
       "    }\n",
       "</style>\n",
       "<table border=\"1\" class=\"dataframe\">\n",
       "  <thead>\n",
       "    <tr style=\"text-align: right;\">\n",
       "      <th></th>\n",
       "      <th>Model</th>\n",
       "      <th>Best Parameters</th>\n",
       "      <th>Best Score</th>\n",
       "    </tr>\n",
       "  </thead>\n",
       "  <tbody>\n",
       "    <tr>\n",
       "      <th>0</th>\n",
       "      <td>Linear Regression</td>\n",
       "      <td>{'normalize': False}</td>\n",
       "      <td>0.197161</td>\n",
       "    </tr>\n",
       "    <tr>\n",
       "      <th>1</th>\n",
       "      <td>Decision Tree</td>\n",
       "      <td>{'splitter': 'best', 'criterion': 'mse'}</td>\n",
       "      <td>0.846193</td>\n",
       "    </tr>\n",
       "    <tr>\n",
       "      <th>2</th>\n",
       "      <td>Random Forest</td>\n",
       "      <td>{'n_estimators': 100, 'min_samples_split': 2, ...</td>\n",
       "      <td>0.911713</td>\n",
       "    </tr>\n",
       "  </tbody>\n",
       "</table>\n",
       "</div>"
      ],
      "text/plain": [
       "               Model                                    Best Parameters  \\\n",
       "0  Linear Regression                               {'normalize': False}   \n",
       "1      Decision Tree           {'splitter': 'best', 'criterion': 'mse'}   \n",
       "2      Random Forest  {'n_estimators': 100, 'min_samples_split': 2, ...   \n",
       "\n",
       "   Best Score  \n",
       "0    0.197161  \n",
       "1    0.846193  \n",
       "2    0.911713  "
      ]
     },
     "execution_count": 18,
     "metadata": {},
     "output_type": "execute_result"
    }
   ],
   "source": [
    "# let's find best algotithm with it's best parameter\n",
    "# here we are going to use Randomize Search cv for hyperparamter tuninig\n",
    "\n",
    "from sklearn.model_selection import RandomizedSearchCV\n",
    "\n",
    "best_models = {}\n",
    "scores = []\n",
    "for model_name, values in algos.items():\n",
    "    model_tunning = RandomizedSearchCV(values[\"model\"], values[\"param\"], n_iter=10, cv = 5, n_jobs = -1)\n",
    "    model_tunning.fit(X_train, y_train)\n",
    "    \n",
    "    best_models[model_name] = model_tunning\n",
    "    scores.append({\n",
    "        \"Model\": model_name,\n",
    "        \"Best Parameters\": model_tunning.best_params_,\n",
    "        \"Best Score\": model_tunning.best_score_\n",
    "    })\n",
    "    \n",
    "pd.DataFrame(scores)"
   ]
  },
  {
   "cell_type": "code",
   "execution_count": 19,
   "metadata": {},
   "outputs": [
    {
     "name": "stdout",
     "output_type": "stream",
     "text": [
      "Linear Regression  :  -1.2162543176710439\n",
      "Decision Tree  :  0.9574448350052828\n",
      "Random Forest  :  0.9592355679732406\n"
     ]
    }
   ],
   "source": [
    "# In above we can see that Decision Tree is best algorithm with 92% accuracy\n",
    "# but let's test all the algorithm on our test data set\n",
    "\n",
    "for name, model in best_models.items():\n",
    "    print(name, \" : \", model.score(X_test, y_test))\n"
   ]
  },
  {
   "cell_type": "markdown",
   "metadata": {},
   "source": [
    "##### so we can see above when we test those trained model using test data we get random forest is best algorithm with 96% accuracy "
   ]
  },
  {
   "cell_type": "code",
   "execution_count": 20,
   "metadata": {},
   "outputs": [],
   "source": [
    "# let's take our final model\n",
    "final_model = best_models[\"Random Forest\"]"
   ]
  },
  {
   "cell_type": "code",
   "execution_count": 21,
   "metadata": {},
   "outputs": [],
   "source": [
    "# so here we take Random Forest model for our problem\n",
    "\n",
    "def predict_price(year, present_price, kms, owner, diesel, petrol, individual, manual, vehicle):\n",
    "    vehicle_index = np.where(X.columns == vehicle.lower())[0][0]\n",
    "    X_pred = np.zeros_like(X.columns)\n",
    "    \n",
    "    feature_list = [year, present_price, kms, owner, diesel, petrol, individual, manual]\n",
    "    count = 0\n",
    "    for f in feature_list:\n",
    "        X_pred[count] = f\n",
    "        count += 1\n",
    "    \n",
    "    if vehicle_index > 0:\n",
    "        X_pred[vehicle_index] = 1\n",
    "    \n",
    "    result = final_model.predict([X_pred])\n",
    "    \n",
    "    return result\n"
   ]
  },
  {
   "cell_type": "code",
   "execution_count": 22,
   "metadata": {},
   "outputs": [
    {
     "data": {
      "text/plain": [
       "array([5.062])"
      ]
     },
     "execution_count": 22,
     "metadata": {},
     "output_type": "execute_result"
    }
   ],
   "source": [
    "predict_price(7, 9.54, 43000, 0, 1, 0, 0, 1, \"sx4\")"
   ]
  },
  {
   "cell_type": "code",
   "execution_count": 23,
   "metadata": {},
   "outputs": [],
   "source": [
    "# our model is working perfectly fine with around 96% accuracy\n",
    "# let's save our model as binary file\n",
    "\n",
    "import pickle\n",
    "\n",
    "with open(\"model.pkl\", \"wb\") as f:\n",
    "    pickle.dump(final_model, f)"
   ]
  },
  {
   "cell_type": "code",
   "execution_count": 24,
   "metadata": {},
   "outputs": [],
   "source": [
    "# let's save json file of our columns, it's use in frontend\n",
    "\n",
    "import json\n",
    "\n",
    "column_dict = {\"data_columns\": X.columns.to_list()}\n",
    "\n",
    "with open(\"columns.json\", \"w\") as f:\n",
    "    json.dump(column_dict, f)"
   ]
  }
 ],
 "metadata": {
  "kernelspec": {
   "display_name": "Python 3",
   "language": "python",
   "name": "python3"
  },
  "language_info": {
   "codemirror_mode": {
    "name": "ipython",
    "version": 3
   },
   "file_extension": ".py",
   "mimetype": "text/x-python",
   "name": "python",
   "nbconvert_exporter": "python",
   "pygments_lexer": "ipython3",
   "version": "3.8.3"
  }
 },
 "nbformat": 4,
 "nbformat_minor": 4
}
